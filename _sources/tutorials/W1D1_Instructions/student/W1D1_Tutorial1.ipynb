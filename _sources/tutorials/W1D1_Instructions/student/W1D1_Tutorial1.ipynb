{
 "cells": [
  {
   "cell_type": "markdown",
   "metadata": {
    "colab_type": "text",
    "execution": {},
    "id": "view-in-github"
   },
   "source": [
    "<a href=\"https://colab.research.google.com/github/neuromatch/course-content-template/blob/main/tutorials/W1D1_Template/student/W1D1_Tutorial1.ipynb\" target=\"_blank\"><img alt=\"Open In Colab\" src=\"https://colab.research.google.com/assets/colab-badge.svg\"/></a>   <a href=\"https://kaggle.com/kernels/welcome?src=https://raw.githubusercontent.com/neuromatch/course-content-template/main/tutorials/W1D1_Template/student/W1D1_Tutorial1.ipynb\" target=\"_blank\"><img alt=\"Open in Kaggle\" src=\"https://kaggle.com/static/images/open-in-kaggle.svg\"/></a>"
   ]
  },
  {
   "cell_type": "markdown",
   "metadata": {
    "execution": {}
   },
   "source": [
    "# Tutorial 1: Importing the Template\n",
    "\n",
    "**Week 1, Day 1: Instructions**\n",
    "\n",
    "**By Neuromatch**\n",
    "\n",
    "__Content creators:__ Konstantine Tsafatinos\n",
    "\n",
    "__Content reviewers:__ Konstantine Tsafatinos\n",
    "\n",
    "__Production editors:__ Konstantine Tsafatinos\n",
    "\n",
    "<br>\n",
    "\n",
    "Acknowledgments: [Ella Batty, Spiros Chavlis and neuromatch]\n"
   ]
  },
  {
   "cell_type": "markdown",
   "metadata": {
    "execution": {}
   },
   "source": [
    "___\n",
    "\n",
    "Use a line (---) separator from title block to objectives. \n",
    "\n",
    "# Tutorial Objectives\n",
    "\n",
    "*Estimated timing of tutorial: [15 mins]*\n",
    "\n",
    "In this tutorial, you will learn how to import an existing github repository into a new github repository.\n",
    "\n",
    "\n",
    "You should note the this differs from forking a repo. The reasons we are importing the template: \n",
    "\n",
    "- you get a working copy of all the starter code; it even builds!\n",
    "- it is decoupled from the template repo, which is desired as your course content will deviate from this template and at no point would you want to push to the orginal repo and overwrite the template (that would be no bueno)"
   ]
  },
  {
   "cell_type": "markdown",
   "metadata": {
    "execution": {}
   },
   "source": [
    "---\n",
    "# Setup\n",
    "\n"
   ]
  },
  {
   "cell_type": "markdown",
   "metadata": {
    "execution": {}
   },
   "source": [
    "In this section, we have:\n",
    "\n",
    "1. **New Repository Via Import**: Create a new repository on github import from an existing repo."
   ]
  },
  {
   "cell_type": "markdown",
   "metadata": {
    "execution": {}
   },
   "source": [
    "---\n",
    "\n",
    "# Section 1: How to create a new repository via importing\n",
    "\n",
    " "
   ]
  },
  {
   "cell_type": "markdown",
   "metadata": {
    "execution": {}
   },
   "source": [
    "How to import:"
   ]
  },
  {
   "cell_type": "markdown",
   "metadata": {
    "execution": {}
   },
   "source": [
    "- sign in to github\n",
    "- click on create new repo\n",
    "\n",
    "<p align='center'><img src='https://github.com/neuromatch/course-content-template/blob/main/tutorials/static/import-repo.gif?raw=True' alt='import repo gif'/></p>\n",
    "\n",
    "TODO: remove relative import!\n",
    "\n",
    "<p align='center'><img src='../static/import-repo.gif' alt='import repo gif'/></p>"
   ]
  },
  {
   "cell_type": "markdown",
   "metadata": {
    "execution": {}
   },
   "source": [
    "## Section 1.1: Import from URL and name the new repository\n",
    "\n",
    "Next Steps:\n",
    "\n",
    "- import template\n",
    "- name course\n",
    "- choose organization\n",
    "- make it public\n",
    "- wait\n",
    "\n",
    "<p align='center'><img src='https://github.com/neuromatch/course-content-template/blob/main/tutorials/static/new-course.gif?raw=True' alt='create new course gif'/></p>\n",
    "\n",
    "TODO: remove relative import!\n",
    "\n",
    "<p align='center'><img src='../static/new-course.gif' alt='create new course gif'/></p>"
   ]
  },
  {
   "cell_type": "markdown",
   "metadata": {
    "execution": {}
   },
   "source": [
    "---\n",
    "\n",
    "# Section 2: Wait for Importing to Complete\n",
    "\n",
    "You will see this:\n",
    "\n",
    "<p align='center'><img src='https://github.com/neuromatch/course-content-template/blob/main/tutorials/static/import-complete.png?raw=True' alt='complete import image'/></p>\n",
    "\n",
    "TODO: remove relative import!\n",
    "\n",
    "<p align='center'><img src='../static/import-complete.png' alt='complete import image'/></p>"
   ]
  },
  {
   "cell_type": "markdown",
   "metadata": {
    "execution": {}
   },
   "source": [
    "---\n",
    "# Summary\n",
    "\n",
    "Congrats! You have now successfully:\n",
    "\n",
    "1. created a new repo for your course content to live\n",
    "\n",
    "2. imported the starting code from our template"
   ]
  }
 ],
 "metadata": {
  "colab": {
   "collapsed_sections": [],
   "include_colab_link": true,
   "name": "W1D1_Tutorial1",
   "provenance": [],
   "toc_visible": true
  },
  "kernel": {
   "display_name": "Python 3",
   "language": "python",
   "name": "python3"
  },
  "kernelspec": {
   "display_name": "Python 3 (ipykernel)",
   "language": "python",
   "name": "python3"
  },
  "language_info": {
   "codemirror_mode": {
    "name": "ipython",
    "version": 3
   },
   "file_extension": ".py",
   "mimetype": "text/x-python",
   "name": "python",
   "nbconvert_exporter": "python",
   "pygments_lexer": "ipython3",
   "version": "3.9.18"
  }
 },
 "nbformat": 4,
 "nbformat_minor": 4
}