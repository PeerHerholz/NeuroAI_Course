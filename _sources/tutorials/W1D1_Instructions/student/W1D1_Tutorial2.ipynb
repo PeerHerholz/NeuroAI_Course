{
 "cells": [
  {
   "cell_type": "markdown",
   "metadata": {
    "colab_type": "text",
    "execution": {},
    "id": "view-in-github"
   },
   "source": [
    "<a href=\"https://colab.research.google.com/github/neuromatch/course-content-template/blob/main/tutorials/W1D1_Template/student/W1D1_Tutorial2.ipynb\" target=\"_blank\"><img alt=\"Open In Colab\" src=\"https://colab.research.google.com/assets/colab-badge.svg\"/></a>   <a href=\"https://kaggle.com/kernels/welcome?src=https://raw.githubusercontent.com/neuromatch/course-content-template/main/tutorials/W1D1_Template/student/W1D1_Tutorial2.ipynb\" target=\"_blank\"><img alt=\"Open in Kaggle\" src=\"https://kaggle.com/static/images/open-in-kaggle.svg\"/></a>"
   ]
  },
  {
   "cell_type": "markdown",
   "metadata": {
    "execution": {}
   },
   "source": [
    "# Tutorial 2: Github Workflow\n",
    "\n",
    "**Week 1, Day 1: Instructions**\n",
    "\n",
    "**By Neuromatch**\n",
    "\n",
    "__Content creators:__ Konstantine Tsafatinos\n",
    "\n",
    "__Content reviewers:__ Konstantine Tsafatinos\n",
    "\n",
    "__Production editors:__ Konstantine Tsafatinos\n",
    "\n",
    "<br>\n",
    "\n",
    "Acknowledgments: [Ella Batty, Spiros Chavlis and neuromatch]\n"
   ]
  },
  {
   "cell_type": "markdown",
   "metadata": {
    "execution": {}
   },
   "source": [
    "___\n",
    "\n",
    "# Tutorial Objectives\n",
    "\n",
    "*Estimated timing of tutorial: [15 mins]*\n",
    "\n",
    "In this tutorial, you will learn the workflow for adding content and updating the repository with your new content.\n",
    "\n",
    "\n",
    "You will: \n",
    "\n",
    "- enable github actions for your repository for the new course\n",
    "- learn how to create branches and pull requests\n",
    "- learn our folder structure and the **strict** naming convention for the files\n",
    "- learn how to update the *materials.yml* to reflect the newly created notebooks\n",
    "- learn the basic workflows\n",
    "\n",
    "It is recommended that you read through all of this tutorial before starting to make changes, as all the topics are related to each other for a successful build of the notebooks.\n",
    "\n",
    "TODO: add projects info, prereqs info, and other sections info"
   ]
  },
  {
   "cell_type": "markdown",
   "metadata": {
    "execution": {}
   },
   "source": [
    "---\n",
    "# Setup\n",
    "\n"
   ]
  },
  {
   "cell_type": "markdown",
   "metadata": {
    "execution": {}
   },
   "source": [
    "In this section, we have:\n",
    "\n",
    "1. **Github Actions**: Enable github actions to allow for triggered workflows.\n",
    "2. **Branches and PRs**: Create local branches, push to github, and create a pull request.\n",
    "3. **Folder Structure and Naming Convention**: Guidelines to follow so that the processing and build steps work correctly.\n",
    "4. **Materials.yml**: Add days and tutorials to the materials.yml file.\n",
    "5. **Workflows**: Trigger the workflows."
   ]
  },
  {
   "cell_type": "markdown",
   "metadata": {
    "execution": {}
   },
   "source": [
    "---\n",
    "\n",
    "# Section 1: How to enable github action\n",
    " "
   ]
  },
  {
   "cell_type": "markdown",
   "metadata": {
    "execution": {}
   },
   "source": [
    "Steps:"
   ]
  },
  {
   "cell_type": "markdown",
   "metadata": {
    "execution": {}
   },
   "source": [
    "- click on the settings tab in your newly created repo\n",
    "- click on the actions dropdown -> general\n",
    "- click on *allow all action and reusable workflows*\n",
    "- click save\n",
    "\n",
    "<p align='center'><img src='https://github.com/neuromatch/course-content-template/blob/main/tutorials/static/github-actions.gif?raw=True' alt='github actions gif'/></p>\n"
   ]
  },
  {
   "cell_type": "markdown",
   "metadata": {
    "execution": {}
   },
   "source": [
    "---\n",
    "\n",
    "# Section 2: How to create a PR\n",
    "\n",
    "When creating content you want to add to the course book, you will need to have python and git installed. Afterwards, you will need to create a local python environment with all requirements for your code installed; including jyputer. Before starting to add content, you will need to create a new branch. Instructions [here](https://www.w3schools.com/git/git_branch.asp). \n",
    "\n",
    "Once you have created your working branch, you can then start to work on your notebook. Before saving your notebook and committing the changes to your branch, restart the kernel and clear all cells. Then you can save it, [add](https://www.w3schools.com/git/git_staging_environment.asp?remote=github) the changes, [commit](https://www.w3schools.com/git/git_commit.asp?remote=github) them, and [push](https://www.w3schools.com/git/git_push_to_remote.asp?remote=github) to github.\n",
    "\n",
    "**NOTE**: It is vital that you restart the kernel and clear all outputs. The processing scripts will throw an error if you do not, and the workflow will **not** complete successfully.\n",
    "\n",
    "**Be Careful**: Remeber to pull the lastest changes from github before you commit your work! This is important, a successful workflow execution will create new commits, and if you do not pull the those changes before your commit your local ones, there will be a commit history conflict; i.e you will not be able to push your changes.\n",
    "\n",
    "\n",
    "How to restart kernel and clear all outputs:\n",
    "\n",
    "<p align='center'><img src='https://github.com/neuromatch/course-content-template/blob/main/tutorials/static/restart-kernel.gif?raw=True' alt='restart kernel gif'/></p>\n"
   ]
  },
  {
   "cell_type": "markdown",
   "metadata": {
    "execution": {}
   },
   "source": [
    "## Section 2.1: Creating a PR\n",
    "\n",
    "Once you have push the work on your new branch, you can create a PR onto the main branch. **NOTE**: This will trigger the processing workflow for the course content.\n",
    "\n",
    "Create a pull request:\n",
    "\n",
    "<p align='center'><img src='https://github.com/neuromatch/course-content-template/blob/main/tutorials/static/pull-request.gif?raw=True' alt='pull request gif'/></p>\n",
    "\n",
    "\n",
    "Process Notebook workflow:\n",
    "\n",
    "<p align='center'><img src='https://github.com/neuromatch/course-content-template/blob/main/tutorials/static/process-notebook.gif?raw=True' alt='process notebook gif'/></p>\n",
    "\n",
    "The process notebook workflow will automatically get triggered once a pull request is made to the main branch. It will create the student, instructor and solutions directories, verify the exercises, and prepare the content for the publish workflow. You do **not** need to create or touch the aforementioned folders. All your work should be done on the jupyter notebooks. Remember to restart the kernel and clear your output, if you do not, the process notebooks workflow will throw and error."
   ]
  },
  {
   "cell_type": "markdown",
   "metadata": {
    "execution": {}
   },
   "source": [
    "# Section 3: Folder Structure and Naming Conventions\n",
    "\n",
    "In order for the workflows and scripts to work correctly, and for your book to properly build, you will need to **strictly** follow our folder heirarchy and naming conventions. This is what the scripts are expecting, and you will not be able to successfully build your course book if you deviate from the conventions. \n",
    "\n",
    "- book/ (do not touch, this get automatically created/population in the publish workflow)\n",
    "- projects/ (TODO: explain this in more depth)\n",
    "- tutorials/\n",
    "    - W#D#\\_DayName/ -> (ie. W1D1\\_InstructionsTemplate; This is strict! You must have the W#D#\\_ prefix followed by the name of the content for that day. The name **cannot** include special characters (i.e \\-, \\_) and must follow the format shown.\n",
    "        - static/\n",
    "        - README.md -> (This needs to match exactly!)\n",
    "        - W#D#\\_DaySummary.ipynb -> (The name needs to match exactly!)\n",
    "        - W#D#\\_Intro.ipynb -> (The name needs to match exactly!)\n",
    "        - W#D#\\_Outro.ipynb -> (The name needs to match exactly!)\n",
    "        - W#D#\\_Tutorial#.ipynb -> (The name needs to match exactly! You can have multiple tutorials for a day as long as you number them sequentially and add the number to the materials.yml file.)\n",
    "        - further_reading.md -> (The name needs to match exactly!)\n",
    "    - static/\n",
    "    - materials.yml\n",
    "\n",
    "See a working example below:\n",
    "<p align='center'><img src='https://github.com/neuromatch/course-content-template/blob/main/tutorials/static/folder-structure.png?raw=True' alt='folder structure image'/></p>\n",
    "\n",
    "To reiterate, you do not need to worry about the student, instructor, or solutions directories. Those are automatically taken care of."
   ]
  },
  {
   "cell_type": "markdown",
   "metadata": {
    "execution": {}
   },
   "source": [
    "## Section 3.1: Cell Tags (markings at the top of the cell)\n",
    "\n",
    "The workflows and processing scripts actively make use of predefined tags to determine how to process the cell. There are tags for video embeddeing, slide embedding, titles, exercises and solutions, etc. It is very important these instructions are followed **exactly**! Any deviations will break the pipeline. More details about the tags and how to use them can be found in W1D2_Tutorial1.ipynb of the template notebook.\n",
    "\n",
    "**NOTE**: Please read the details found in the template very carefully. Specifically the section on exercises and solutions. You need to be precises. We have a verify exercises script that will fail if you deviate from the instructions. For example, the comments in the cells for the exercises and solutions grouping need to be **EXACT**. See below:\n",
    "\n",
    "Exercise:\n",
    "\n",
    "def func(ex):\n",
    "\n",
    "&emsp; # comments describing the exercises\n",
    "\n",
    "&emsp; x = ...\n",
    "    \n",
    "&emsp; return x\n",
    "\n",
    "\n",
    "Solution:\n",
    "\n",
    "def func(ex):\n",
    "\n",
    "&emsp; # comment describing the exercises\n",
    "\n",
    "&emsp; x = ...\n",
    "    \n",
    "&emsp; return x\n",
    "\n",
    "\n",
    "This will fail because \"comments\" is singular in the comments of the solution cell. These checks are in place to ensure the exercise and corresponding solution cells are appropriately matched and coupled. This comment rule applies to **all** comments in the exercise/solution cells."
   ]
  },
  {
   "cell_type": "markdown",
   "metadata": {
    "execution": {}
   },
   "source": [
    "## Section 3.2: Add Images\n",
    "\n",
    "Your images should live in the static directories. They can be grouped into the a static directory per day, or can be inside the general static directory for all tutorials. The important thing here is that you correctly link to the proper URL. You can directly add the following html into your markdown cells in order to add images.\n",
    "\n",
    "\n",
    "\\<p align='center'>\\<img src='https://github.com/your_org_name/your_repo_name/blob/main/tutorials/static/your_file_name.ext?raw=True' alt='image description'/>\\</p>\n",
    "\n",
    "\n",
    "Ex:\n",
    "\n",
    "\\<p align='center'>\\<img src='https://github.com/neuromatch/course-content-template/blob/main/tutorials/static/folder-structure.png?raw=True' alt='folder structure image'/>\\</p>\n",
    "\n",
    "We recommend using .png or .gif file extensions.\n",
    "\n",
    "**NOTE**: This will not show up in your local development environment until the images are add to the main branch on github. As you can see from the above URL, it is pointing to the main branch of a github repository. If you would like to test it locally, you can use this:\n",
    "\n",
    "\\<p align='center'>\\<img src='../static/your_file_name.png' alt='image desctiption'/>\\</p>\n",
    "\n",
    "Remember to change the source back to the github url before push your changes!"
   ]
  },
  {
   "cell_type": "markdown",
   "metadata": {
    "execution": {}
   },
   "source": [
    "---\n",
    "\n",
    "# Section 4: Add Content to the materials.yml File\n",
    "\n",
    "The materials.yml file is used in our scripts to help very links, populate the books, and create our table of contents. Be sure to **precisely** follow the structure outlined in the file. If you look at the materials.yml file for this template notebook, you will see the structure laid out in order for this book to properly build. There are comments in the file to further explain all the fields you will need to use. Here is an overview of the structure:\n",
    "\n",
    "- day: W1D1\n",
    "    - category: Course Content Template Instructions     \n",
    "    - intro: https://www.youtube.com/watch?v=KxldhMR5PxA\n",
    "    - intro_bilibili: https://www.bilibili.com/video/BV1HT4y1E7U4/\n",
    "    - name: Instructions                         \n",
    "    - outro:  https://www.youtube.com/watch?v=KZQXfQL1SH4\n",
    "    - outro_bilibili: https://www.bilibili.com/video/BV1vv411i7SG/\n",
    "    - playlist: https://www.youtube.com/playlist?list=PLkBQOLLbi18ObAiSOZ42YBwOQIKNvspeI\n",
    "\n",
    "    - qa: #insert as many as Q&A video links as needed\n",
    "        - Insert Q&A video link 1 here               \n",
    "\n",
    "    - slides: #insert as many as slides links and titles as needed\n",
    "        - link: https://mfr.ca-1.osf.io/render?url=https://osf.io/rbx2a/?direct%26mode=render%26action=download%26mode=render\n",
    "    - title: Intro\n",
    "        - link: https://mfr.ca-1.osf.io/render?url=https://osf.io/6dxwe/?direct%26mode=render%26action=download%26mode=render\n",
    "    - title: Tutorials\n",
    "        - link: https://mfr.ca-1.osf.io/render?url=https://osf.io/jdumz/?direct%26mode=render%26action=download%26mode=render\n",
    "    - title: DaySummary\n",
    "        - link: https://mfr.ca-1.osf.io/render?url=https://osf.io/9hkg2/?direct%26mode=render%26action=download%26mode=render\n",
    "    - title: Outro\n",
    "        - link: https://mfr.ca-1.osf.io/render?url=https://osf.io/2esh5/?direct%26mode=render%26action=download%26mode=render\n",
    "    - title: Reading\n",
    "        - link: https://mfr.ca-1.osf.io/render?url=https://osf.io/5vj73/?direct%26mode=render%26action=download%26mode=render\n",
    "    - title: TA\n",
    "    - tutorials: 1\n",
    " \n",
    "Remember to create one grouping of the above content per day and be sure to make the number of tutorials."
   ]
  },
  {
   "cell_type": "markdown",
   "metadata": {
    "execution": {}
   },
   "source": [
    "# Section 5: Workflows\n",
    "TODO: look into other workflows, ask spiros and ella\n",
    "\n",
    "There are two main workflows used to build the notebooks:\n",
    "- notebook-pr (automatically triggered when a PR is made onto the main repo)\n",
    "- publish-book (this needs to be manually triggered by navigating to the github actions tab. See Below)\n",
    "Each workflow involves building python environments and running python scripts on github's servers, and then automatically creating the appropriate commits and pushes on github. The scripts handle notbeook processing, verification and html generation. After the publish-book workflow is complete, it pushes the generated html files into the gh-pages branch (it creates one if it does not exist). This branch is not to be touched and is automatically taken care of for us. All we need to do is change our pages settings in github settings to use the gh-pages branch instead of mean. See Below.\n",
    "\n",
    "Trigger publish-book:\n",
    "<p align='center'><img src='https://github.com/neuromatch/course-content-template/blob/main/tutorials/static/publish-book.gif?raw=True' alt='publish book gif'/></p>\n",
    "\n",
    "Point github pages to the gh-pages branch:\n",
    "<p align='center'><img src='https://github.com/neuromatch/course-content-template/blob/main/tutorials/static/gh-pages.gif?raw=True' alt='github pages gif'/></p>\n"
   ]
  },
  {
   "cell_type": "markdown",
   "metadata": {
    "execution": {}
   },
   "source": [
    "---\n",
    "# Summary\n",
    "\n",
    "Congrats! You have now know:\n",
    "\n",
    "1. how and where to create new content\n",
    "2. how to follow our naming convention\n",
    "3. how to prepare the notebooks for our pipeline\n",
    "4. how to create branches and pull requests\n",
    "5. the basics of our workflows using github actions\n",
    "\n",
    "Happy creating!"
   ]
  }
 ],
 "metadata": {
  "colab": {
   "collapsed_sections": [],
   "include_colab_link": true,
   "name": "W1D1_Tutorial2",
   "provenance": [],
   "toc_visible": true
  },
  "kernel": {
   "display_name": "Python 3",
   "language": "python",
   "name": "python3"
  },
  "kernelspec": {
   "display_name": "Python 3 (ipykernel)",
   "language": "python",
   "name": "python3"
  },
  "language_info": {
   "codemirror_mode": {
    "name": "ipython",
    "version": 3
   },
   "file_extension": ".py",
   "mimetype": "text/x-python",
   "name": "python",
   "nbconvert_exporter": "python",
   "pygments_lexer": "ipython3",
   "version": "3.9.18"
  }
 },
 "nbformat": 4,
 "nbformat_minor": 4
}