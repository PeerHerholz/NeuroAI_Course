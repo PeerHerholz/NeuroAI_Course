{
 "cells": [
  {
   "cell_type": "markdown",
   "metadata": {
    "colab_type": "text",
    "execution": {},
    "id": "view-in-github"
   },
   "source": [
    "<a href=\"https://colab.research.google.com/github/neuromatch/course-content-template/blob/main/tutorials/W1D1_Template/student/W1D1_Tutorial4.ipynb\" target=\"_blank\"><img alt=\"Open In Colab\" src=\"https://colab.research.google.com/assets/colab-badge.svg\"/></a>   <a href=\"https://kaggle.com/kernels/welcome?src=https://raw.githubusercontent.com/neuromatch/course-content-template/main/tutorials/W1D1_Template/student/W1D1_Tutorial4.ipynb\" target=\"_blank\"><img alt=\"Open in Kaggle\" src=\"https://kaggle.com/static/images/open-in-kaggle.svg\"/></a>"
   ]
  },
  {
   "cell_type": "markdown",
   "metadata": {
    "execution": {}
   },
   "source": [
    "# Tutorial 4: Extra Notebook Sections\n",
    "\n",
    "**Week 1, Day 1: Instructions**\n",
    "\n",
    "**By Neuromatch**\n",
    "\n",
    "__Content creators:__ Konstantine Tsafatinos\n",
    "\n",
    "__Content reviewers:__ Konstantine Tsafatinos\n",
    "\n",
    "__Production editors:__ Konstantine Tsafatinos\n",
    "\n",
    "<br>\n",
    "\n",
    "Acknowledgments: [Ella Batty, Spiros Chavlis and neuromatch]\n"
   ]
  },
  {
   "cell_type": "markdown",
   "metadata": {
    "execution": {}
   },
   "source": [
    "___\n",
    "\n",
    "## Tutorial Objectives\n",
    "\n",
    "*Estimated timing of tutorial: [15 mins]*\n",
    "\n",
    "In this tutorial, you will learn about the different sections and folder heirarchies in the course notebook, and how to use them.\n",
    "\n",
    "\n",
    "You will: \n",
    "\n",
    "- learn how to add Art for the landing page of a tutorial day\n",
    "- learn how to create Wrap Ups for a given module (category)\n",
    "- learn how to add Bonus Tutorials\n",
    "- learn how to add/update the course schedule\n",
    "- learn how to add prereqs for your course\n",
    "\n",
    "It is recommended that you read through all of tutorials 1 through 3 as this tutorial builds upon that knowledge."
   ]
  },
  {
   "cell_type": "markdown",
   "metadata": {
    "execution": {}
   },
   "source": [
    "---\n",
    "\n",
    "## Section 1: Adding artwork to the day landing page\n",
    "\n",
    "In this section, we will describe the naming conventions that you need to follow, in order to add images to the day landing page\n",
    " "
   ]
  },
  {
   "cell_type": "markdown",
   "metadata": {
    "execution": {}
   },
   "source": [
    "Steps:\n",
    "- Choose the image you want to use. This can come from the Art contests during the course, or from somewhere on the web.\n",
    "- Add the image to the directory **tutorials/Art/**\n",
    "- Name the image with the follow format: W#D#_DayName-Artist_Name.(jpg or png)\n",
    "\n",
    "You **must** follow the above format exactly! This includes the underscores and dashes. Here is an example: **W2D4_DynamicNetworks-Ekaterina_Morozova.jpg**\n",
    "The beginning of the file name (ie. W2D4_) is used to place the image on the landing page for the right day, and the end (ie. -Ekaterina_Morozova) is used to credit the artist. You can find examples [here](https://github.com/neuromatch/course-content-template/tree/main/tutorials/Art)."
   ]
  },
  {
   "cell_type": "markdown",
   "metadata": {
    "execution": {}
   },
   "source": [
    "---\n",
    "\n",
    "## Section 2: Adding Module (category) WrapUps\n",
    "\n",
    "Module WrapUps are a good way to connect the dots between concepts that were discussed over several days. You can think of new and fun ways to acheive this. In the past we have embedded podcasts about a given topic to help solidify what was taught.\n"
   ]
  },
  {
   "cell_type": "markdown",
   "metadata": {
    "execution": {}
   },
   "source": [
    "Steps:\n",
    "- Decide on the format for your wrap up\n",
    "- Add the notebook file to the directory **tutorials/Module_WrapUps**\n",
    "- Give the file the same name as the module (category) with the file extension .ipynb\n",
    "Here is an example of the naming convention: **CourseContentTemplateInstructions.ipynb**\n",
    "\n",
    "**Note**: the category name defined in the materials.yml file may have spaces, but the file name for the wrap up must *not*. Simply remove the spaces and concatenate all the word in the category title together, exactly how they are written in the materials file.\n"
   ]
  },
  {
   "cell_type": "markdown",
   "metadata": {
    "execution": {}
   },
   "source": [
    "___\n",
    "\n",
    "## Section 3: Bonus Tutorials\n",
    "\n",
    "You have to option to add bonus tutorials for a given module/category. The process is similar to adding regular tutorials, only the prefix for the folder will be Bonus, instead of the week number and day number. For example, a bonus tutorial within the tutorials directoty would look as follows: **tutorials/Bonus_ContentName**. \n",
    "\n",
    "The Bonus directory should follow a similar structure to the regular tutorials directory by including the follow files within the bonus directory:\n",
    "- Bonus_Intro.ipynb\n",
    "- Bonus_Outro.ipynb\n",
    "- Bonus_Tutorial1.ipynb\n",
    "- Bonus_TutorialN.ipynb -> N denoting an arbitrary number of tutorials in the bonus.\n",
    "\n",
    "**NOTE**: You should add the bonus to the materials file using the following structure:\n",
    "\n",
    "\\- day: Bonus\n",
    "\n",
    "&nbsp;&nbsp;&nbsp;&nbsp;category: Name of the module you want to include a bonus for\n",
    "\n",
    "&nbsp;&nbsp;&nbsp;&nbsp;name: Bonus Content Name\n",
    "  \n",
    "&nbsp;&nbsp;&nbsp;&nbsp;tutorials: N -> The number of tutorials in the bonus.\n",
    "\n",
    "You should follow all the same conventions described for regular tutorial creation. This template includes a bonus tutorial in the Intructions section that you can use as a template. See the **materials.yml** file for how to add a bonus to a module."
   ]
  },
  {
   "cell_type": "markdown",
   "metadata": {
    "execution": {}
   },
   "source": [
    "---\n",
    "\n",
    "## Section 4: Course Schedule\n",
    "\n",
    "We include a daily schedule and links to shared calendars in the course books for reference for the students and TAs. This section will briefly describe where this content lives, and which files to change for your new course."
   ]
  },
  {
   "cell_type": "markdown",
   "metadata": {
    "execution": {}
   },
   "source": [
    "Within the tutorials directory, you'll find a schedule directory (ie. tutorials/Schedule). In this directory, you'll see the following 4 files:\n",
    "- daily_schedules.md\n",
    "- schedule_intro.md\n",
    "- shared_calendars.md\n",
    "- timezone_widget.md\n",
    "\n",
    "The time zone widget is managed in another repo and is simply linked to this book; you won't need to really edit that here. The files you want to pay attention to are the **daily_schedules.md** and **shared_calendars.md** files. You should edit them reflect the actual schedules and shared calendars for your newly created course.\n",
    "\n",
    "**NOTE**: You will need to replace the day names in the daily_schedules.md file to match the name for your course. You will also need to replace the links to the shared calendars (in UTC) to point to the calendars for your course.\n",
    "\n",
    "We have included examples from our comp neuro course. Please feel free to use them as a template and edit them to your needs."
   ]
  },
  {
   "cell_type": "markdown",
   "metadata": {
    "execution": {}
   },
   "source": [
    "___\n",
    "\n",
    "## Section 5: Course Prereqs\n",
    "\n",
    "This section briefly describes how to include precourse work for your new course. Generally, the precourse tutorials live in a separate repo. We suggest importing the precourse repo under the neuromatch organization (similar to what you did for this course book), and then naming it something like **yourcourse-precourse** under the neuromatch organization. You can then edit the tutorials for the prereqs directly and decide what to keep and what to change. \n",
    "\n",
    "**NOTE**: You should follow the structure **exactly** as it is laid out from the imported repo. It is very similar to the structure of the tutorials for the regular book.\n",
    "\n",
    "You will need to:\n",
    "- write all your tutorials in the tutorials directory of the precourse repo\n",
    "- use the prefix W0D# for your days of precourse work\n",
    "- edit the materials.yml file in the tutorials directory to reflect the names of your days as well as the number of tutorials for each day\n",
    "- write an intro for the course/precourse and save it as a .md file in the prereqs directory of the precourse repo\n",
    "\n",
    "\n",
    "After all that is done, you should then edit the **publish-book.yml** workflow file in your course book repo under the .github/workflows directory and change **ONLY** the following env vars to match your new course and precourse repos.\n",
    "\n",
    "env:\n",
    "\n",
    "  &nbsp;&nbsp;&nbsp;&nbsp;NB_KERNEL: python\n",
    "\n",
    "  &nbsp;&nbsp;&nbsp;&nbsp;ORG: neuromatch\n",
    "\n",
    "  &nbsp;&nbsp;&nbsp;&nbsp;NMA_REPO: new-course-content\n",
    "\n",
    "  &nbsp;&nbsp;&nbsp;&nbsp;NMA_MAIN_BRANCH: main\n",
    "\n",
    "  &nbsp;&nbsp;&nbsp;&nbsp;PREREQ_REPO: yourcourse-precourse\n",
    "\n",
    "  &nbsp;&nbsp;&nbsp;&nbsp;PREREQ_INTRO: MyNewCourse\n",
    "  "
   ]
  },
  {
   "cell_type": "markdown",
   "metadata": {
    "execution": {}
   },
   "source": [
    "Below is an example of the vars set for this template:\n",
    "\n",
    "env:\n",
    "\n",
    "  &nbsp;&nbsp;&nbsp;&nbsp;NB_KERNEL: python\n",
    "\n",
    "  &nbsp;&nbsp;&nbsp;&nbsp;ORG: neuromatch\n",
    "\n",
    "  &nbsp;&nbsp;&nbsp;&nbsp;NMA_REPO: course-content-template\n",
    "\n",
    "  &nbsp;&nbsp;&nbsp;&nbsp;NMA_MAIN_BRANCH: main\n",
    "\n",
    "  &nbsp;&nbsp;&nbsp;&nbsp;PREREQ_REPO: precourse\n",
    "\n",
    "  &nbsp;&nbsp;&nbsp;&nbsp;PREREQ_INTRO: ComputationalNeuroscience\n",
    "  "
   ]
  },
  {
   "cell_type": "markdown",
   "metadata": {
    "execution": {}
   },
   "source": [
    "We have included the precourse materials from our comp neuro course in the template to demonstrate how it would look. Feel free to use it as a template for your precourse materials."
   ]
  },
  {
   "cell_type": "markdown",
   "metadata": {
    "execution": {}
   },
   "source": [
    "---\n",
    "# Summary\n",
    "\n",
    "Congrats! You now know:\n",
    "\n",
    "1. how and where to add artwork/images to your day landing page\n",
    "2. how and where to add module Wrap Ups\n",
    "3. how to include bonus tutorials for a module\n",
    "4. how to create/update your course schedules\n",
    "5. the basics of adding prereqs to your course notebook\n",
    "\n",
    "Happy content creating!"
   ]
  }
 ],
 "metadata": {
  "colab": {
   "collapsed_sections": [],
   "include_colab_link": true,
   "name": "W1D1_Tutorial4",
   "provenance": [],
   "toc_visible": true
  },
  "kernel": {
   "display_name": "Python 3",
   "language": "python",
   "name": "python3"
  },
  "kernelspec": {
   "display_name": "Python 3 (ipykernel)",
   "language": "python",
   "name": "python3"
  },
  "language_info": {
   "codemirror_mode": {
    "name": "ipython",
    "version": 3
   },
   "file_extension": ".py",
   "mimetype": "text/x-python",
   "name": "python",
   "nbconvert_exporter": "python",
   "pygments_lexer": "ipython3",
   "version": "3.9.18"
  }
 },
 "nbformat": 4,
 "nbformat_minor": 4
}