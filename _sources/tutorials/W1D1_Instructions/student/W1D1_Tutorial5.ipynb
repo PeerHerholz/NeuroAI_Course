{
 "cells": [
  {
   "cell_type": "markdown",
   "id": "5e4db6b4",
   "metadata": {
    "execution": {}
   },
   "source": [
    "<a href=\"https://colab.research.google.com/github/neuromatch/course-content-template/blob/main/tutorials/W1D1_Template/student/W1D1_Tutorial5.ipynb\" target=\"_blank\"><img alt=\"Open In Colab\" src=\"https://colab.research.google.com/assets/colab-badge.svg\"/></a>   <a href=\"https://kaggle.com/kernels/welcome?src=https://raw.githubusercontent.com/neuromatch/course-content-template/main/tutorials/W1D1_Template/student/W1D1_Tutorial5.ipynb\" target=\"_blank\"><img alt=\"Open in Kaggle\" src=\"https://kaggle.com/static/images/open-in-kaggle.svg\"/></a>"
   ]
  },
  {
   "cell_type": "markdown",
   "id": "7b2d8f4e",
   "metadata": {
    "execution": {}
   },
   "source": [
    "# Tutorial 5: Projects\n",
    "\n",
    "**Week 1, Day 1: Instructions**\n",
    "\n",
    "**By Neuromatch**\n",
    "\n",
    "__Content creators:__ Konstantine Tsafatinos\n",
    "\n",
    "__Content reviewers:__ Konstantine Tsafatinos\n",
    "\n",
    "__Production editors:__ Konstantine Tsafatinos\n",
    "\n",
    "<br>\n",
    "\n",
    "Acknowledgments: [Climatematch]"
   ]
  },
  {
   "cell_type": "markdown",
   "id": "59bcefaf",
   "metadata": {
    "execution": {}
   },
   "source": [
    "___\n",
    "\n",
    "## Tutorial Objectives\n",
    "\n",
    "*Estimated timing of tutorial: [15 mins]*\n",
    "\n",
    "In this tutorial, you will learn how to build the projects section and update the repository with your new content.\n",
    "\n",
    "\n",
    "You will: \n",
    "\n",
    "- learn the projects folder structure\n",
    "- learn what each subdirectory contains, and what to change to add new content\n",
    "- learn how to update the **project_materials.yml** to reflect the newly created notebooks\n",
    "\n",
    "It is recommended that you read through all of tutorials 1 through 4 as this tutorial builds upon that knowledge."
   ]
  },
  {
   "cell_type": "markdown",
   "id": "160dd339",
   "metadata": {
    "execution": {}
   },
   "source": [
    "---\n",
    "\n",
    "## Section 1: Folder Structure\n",
    "\n",
    "In the projects directory, you will find the following subdirectories and files:\n",
    "\n",
    "- README.md\n",
    "- docs/\n",
    "- past-projects/\n",
    "- project-notebooks/\n",
    "- professional_development/\n",
    "- keynote.ipynb\n",
    "- project_materials.yml\n",
    "\n",
    "We have included examples from our Computational Tools for Climate Science course. Please feel free to use them as a template and edit them to your needs.\n",
    "\n",
    "**NOTE**: You can ignore the professional_development subdirectory in this tutorial as it is explained in the next one; W1D1_Tutorial6."
   ]
  },
  {
   "cell_type": "markdown",
   "id": "eef90582",
   "metadata": {
    "execution": {}
   },
   "source": [
    "---\n",
    "\n",
    "## Section 2: The docs subdirectory\n",
    "\n",
    "In the docs subdirectory, you will find the following four files:\n",
    "\n",
    "- continuing_your_project_after_the_course.md\n",
    "- datasets_overview.md\n",
    "- past_project_overview.md\n",
    "- project_guidance.md\n",
    "\n",
    "Each file describes a different aspect of the projects for the course. Datasets that can be used are described in the datasets_overview.md. Expected structure, schedule, logistics of the projects are described in project_guidance.md. How to continue you project research after the course is described in continuing_your_project_after_the_course.md. Finally, a description of past projects is found in past_project_overview.md. If this is a new course, you can temporarily omit the past project portion by leaving it out of the **project_materials.yml** file.\n",
    "\n",
    "**Note**: The climate team introduced something new last year with the Impact Scholars program. This was hugely successful and highly encourage you to follow their model, or tweak it to fit your needs. Let the neuromatch team know if you have any questions, want to brainstorm, or need support with this program. Impact Scholars allowed their students to participate in their fields of interest, after the course was complete, and this kind of research facilitation is exactly what neuromatch is about. Happy impacting! :)"
   ]
  },
  {
   "cell_type": "markdown",
   "id": "cd20fa54",
   "metadata": {
    "execution": {}
   },
   "source": [
    "---\n",
    "## Section 3: The past-projects subdirectory\n",
    "\n",
    "The past-projects subdirectory contains a python notebook for each past project topic. Within each notebook, past projects are showcased by embedding the slides from each projects. You can find an example taken from climatematch in this template. Whatever you decide to name it, make sure you link to that name in the project_materials.yml file and give it a title. See the project_materials.yml file from this template to give you an idea of what the build pipeline expects.\n",
    "\n",
    "Here is an example, taken from the template on how to add past-projects:\n",
    "\n",
    "\\- file: projects/docs/past_projects_overview.md\n",
    "\n",
    "&nbsp;&nbsp;  title: Past projects\n",
    "\n",
    " &nbsp;&nbsp; sections:\n",
    "\n",
    " &nbsp;&nbsp;&nbsp;&nbsp; &nbsp;&nbsp; \\- file: projects/past-projects/example_past_project.ipynb\n",
    "  \n",
    "&nbsp;&nbsp;&nbsp;&nbsp;&nbsp;&nbsp;&nbsp;&nbsp; title: Example Past Project"
   ]
  },
  {
   "cell_type": "markdown",
   "id": "dcfdcccb",
   "metadata": {
    "execution": {}
   },
   "source": [
    "---\n",
    "\n",
    "## Section 4: The project-notebook subdirectory\n",
    "\n",
    "In this subject, we will describe how to add project topics to your new course. Within the project-notebooks subdirectory, you will create a python notebook file for each project topic. The notebook should then be added to the project materials.yml file with how ever you named it. We have including a project template file name **example_project.ipynb** in the project-notebooks directory. You can use this template for all your project topics and adapt it as needed.\n",
    "\n",
    "The following is an example of the project_materials.yml file section for adding projects:\n",
    "\n",
    "\\- file: projects/docs/datasets_overview.md\n",
    "\n",
    "&nbsp;&nbsp;  title: Project materials\n",
    "\n",
    "&nbsp;&nbsp;  sections:\n",
    "\n",
    "&nbsp;&nbsp;&nbsp;&nbsp; \\- file: projects/project-notebooks/Example_project.ipynb\n",
    "  \n",
    "&nbsp;&nbsp;&nbsp;&nbsp;&nbsp;&nbsp;    title: Example Project\n",
    "\n",
    "Make sure you link to the name of your project file, and give it a title. The title will be used in the table of contents for your course book."
   ]
  },
  {
   "cell_type": "markdown",
   "id": "48c27819",
   "metadata": {
    "execution": {}
   },
   "source": [
    "---\n",
    "\n",
    "## Section 5: The keynote.ipynb file\n",
    "\n",
    "The keynote.ipynb file is a notebook that contains an overview of a topic, an embedded video and embedded slides. We have included an example for our climate course as inpiration. Including a keynote speaker is a great way to engage students and excite them about the type of projects they can tackle. We encourage you to find someone who is passionate about the field, and who is a good orator. Happy hunting!"
   ]
  },
  {
   "cell_type": "markdown",
   "id": "2df77c64",
   "metadata": {
    "execution": {}
   },
   "source": [
    "---\n",
    "\n",
    "## Section 6: The project_materials.yml file\n",
    "\n",
    "Finally, we get to the project_materials.yml file. This is where you will need to add all the content we talked about in sections 1 through 5. It is critical that you pay attention to the file names that you are pointing to, and that you follow the structure laid out in the file. Our build scripts expect a specific structure, and if you deviate, you will note build the book correctly. You can find an example of the **project_materials.yml** file in this template with comments to help guide you through adding content. \n",
    "\n",
    "Here is what to expect:\n",
    "\n",
    "\\- file: projects/README.md\n",
    "\n",
    "&nbsp;&nbsp;  title: Introduction\n",
    "\n",
    "\\- file: projects/keynote.ipynb\n",
    "\n",
    "&nbsp;&nbsp;  title: Project Day keynote (W2D2)\n",
    "\n",
    "\\- file: projects/docs/project_guidance.md\n",
    "\n",
    "&nbsp;&nbsp;  title: Daily guide for projects\n",
    "\n",
    "\\- file: projects/docs/datasets_overview.md\n",
    "\n",
    "&nbsp;&nbsp;  title: Project materials\n",
    "\n",
    "&nbsp;&nbsp;&nbsp;&nbsp;  sections:\n",
    "\n",
    "&nbsp;&nbsp;&nbsp;&nbsp;  \\- file: projects/project-notebooks/Example_project.ipynb\n",
    "\n",
    "&nbsp;&nbsp;&nbsp;&nbsp;&nbsp;&nbsp;    title: Example Project\n",
    "\n",
    "&nbsp;&nbsp;&nbsp;&nbsp;&nbsp;&nbsp;  # You should add your pojects here using the following:\n",
    "\n",
    "&nbsp;&nbsp;&nbsp;&nbsp;&nbsp;&nbsp;  # - file: point to the file\n",
    "\n",
    "&nbsp;&nbsp;&nbsp;&nbsp;&nbsp;&nbsp;  #   title: name the project\n",
    "\n",
    "\\- file: projects/docs/continuing_your_project_after_the_course.md\n",
    "\n",
    "&nbsp;&nbsp;  title: Continuing your project after the course\n",
    "\n",
    "\\- file: projects/docs/past_projects_overview.md\n",
    "\n",
    "&nbsp;&nbsp;  title: Past projects\n",
    "\n",
    "&nbsp;&nbsp;&nbsp;&nbsp;  sections:\n",
    "\n",
    "&nbsp;&nbsp;&nbsp;&nbsp;  \\- file: projects/past-projects/example_past_project.ipynb\n",
    "\n",
    "&nbsp;&nbsp;&nbsp;&nbsp;&nbsp;&nbsp;    title: Example Past Project\n",
    "\n",
    "&nbsp;&nbsp;&nbsp;&nbsp;&nbsp;&nbsp;  # You should add your past pojects here using the following:\n",
    "\n",
    "&nbsp;&nbsp;&nbsp;&nbsp;&nbsp;&nbsp;  # - file: point to the file\n",
    "\n",
    "&nbsp;&nbsp;&nbsp;&nbsp;&nbsp;&nbsp;  #   title: name the project"
   ]
  },
  {
   "cell_type": "markdown",
   "id": "e7ec2499",
   "metadata": {
    "execution": {}
   },
   "source": [
    "---\n",
    "# Summary\n",
    "\n",
    "Congrats! You now know:\n",
    "\n",
    "1. the folder structure of the projects directory\n",
    "2. what each subdirectory contains and how to update the content\n",
    "2. how to include your changes in the book build by updating the *project_materials.yml* \n",
    "\n",
    "Happy content creating!"
   ]
  }
 ],
 "metadata": {
  "colab": {
   "collapsed_sections": [],
   "include_colab_link": true,
   "name": "W1D1_Tutorial5",
   "toc_visible": true
  },
  "kernel": {
   "display_name": "Python 3",
   "language": "python",
   "name": "python3"
  },
  "kernelspec": {
   "display_name": "Python 3 (ipykernel)",
   "language": "python",
   "name": "python3"
  },
  "language_info": {
   "codemirror_mode": {
    "name": "ipython",
    "version": 3
   },
   "file_extension": ".py",
   "mimetype": "text/x-python",
   "name": "python",
   "nbconvert_exporter": "python",
   "pygments_lexer": "ipython3",
   "version": "3.9.18"
  }
 },
 "nbformat": 4,
 "nbformat_minor": 5
}