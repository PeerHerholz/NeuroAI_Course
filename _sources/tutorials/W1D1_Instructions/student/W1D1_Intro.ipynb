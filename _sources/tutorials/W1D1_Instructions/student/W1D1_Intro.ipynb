{
 "cells": [
  {
   "cell_type": "markdown",
   "metadata": {
    "colab_type": "text",
    "execution": {},
    "id": "view-in-github"
   },
   "source": [
    "<a href=\"https://colab.research.google.com/github/neuromatch/course-content-template/blob/main/tutorials/W1D1_Template/student/W1D1_Intro.ipynb\" target=\"_blank\"><img alt=\"Open In Colab\" src=\"https://colab.research.google.com/assets/colab-badge.svg\"/></a>   <a href=\"https://kaggle.com/kernels/welcome?src=https://raw.githubusercontent.com/neuromatch/course-content-template/main/tutorials/W1D1_Template/student/W1D1_Intro.ipynb\" target=\"_blank\"><img alt=\"Open in Kaggle\" src=\"https://kaggle.com/static/images/open-in-kaggle.svg\"/></a>"
   ]
  },
  {
   "cell_type": "markdown",
   "metadata": {
    "execution": {},
    "pycharm": {
     "name": "#%% md\n"
    }
   },
   "source": [
    "# Intro"
   ]
  },
  {
   "cell_type": "markdown",
   "metadata": {
    "execution": {},
    "pycharm": {
     "name": "#%% md\n"
    }
   },
   "source": [
    "## Overview\n",
    "\n",
    "Welcome to the course content template. The aim of this booklet is to provide you with instructions on how to create buildable course content in the jupyter book format. We will cover everthing you need to know in order to build a book, collaborate with content creators, and host an html version of the book on github pages. Happy creating!\n"
   ]
  },
  {
   "cell_type": "markdown",
   "metadata": {
    "execution": {}
   },
   "source": [
    "## Prerequisite knowledge\n",
    "\n",
    "Ideally you have some knowledge of:\n",
    "\n",
    "- git\n",
    "- github\n",
    "- python\n",
    "- python jupyter notebooks\n",
    "- github CI/CD\n",
    "\n",
    "Do not be discouraged if you are missing some of the prerequisites, we will give you a step by step explaination of how to go about building your course. \n",
    "\n",
    "This course content template acts as a meta template; it provides you with instructions on how to use it while itself working and building like a course book would. We have included templates to be filled in where appropriate, and have included content for some of our courses to illustrate how it has been used. We hope that you find this helpful and enjoy the creating process."
   ]
  },
  {
   "cell_type": "markdown",
   "metadata": {
    "execution": {}
   },
   "source": [
    "## Limitations\n",
    "\n",
    "It is highly encourage (borderline mandatory :p) that you stick to python packages that are easily installable using pip. If you need to install obscure supporting libraries, or specific verions of C compilers, this will cause you (and us) more headaches than necessary. If you want to use some obscure package, please try not to, or find another way to include the functionality of the desired package.\n",
    "\n",
    "It is also strongly advised that you decide on a pythong version for the book, stick to it, and make sure that all of your content creators are using the same version. Mixing python versions will also create a lot of headaches. What ever version you decide on, be sure to specify that in the github workflows. This template is using python 3.9.\n",
    "\n",
    "With love, the Neuromatch tech team"
   ]
  }
 ],
 "metadata": {
  "colab": {
   "collapsed_sections": [],
   "include_colab_link": true,
   "name": "W1D1_Intro",
   "provenance": [],
   "toc_visible": true
  },
  "kernel": {
   "display_name": "Python 3",
   "language": "python",
   "name": "python3"
  },
  "kernelspec": {
   "display_name": "Python 3 (ipykernel)",
   "language": "python",
   "name": "python3"
  },
  "language_info": {
   "codemirror_mode": {
    "name": "ipython",
    "version": 3
   },
   "file_extension": ".py",
   "mimetype": "text/x-python",
   "name": "python",
   "nbconvert_exporter": "python",
   "pygments_lexer": "ipython3",
   "version": "3.9.18"
  }
 },
 "nbformat": 4,
 "nbformat_minor": 4
}