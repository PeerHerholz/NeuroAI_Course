{
 "cells": [
  {
   "cell_type": "markdown",
   "id": "5e4db6b4",
   "metadata": {
    "execution": {}
   },
   "source": [
    "<a href=\"https://colab.research.google.com/github/neuromatch/course-content-template/blob/main/tutorials/W1D1_Template/student/W1D1_Tutorial6.ipynb\" target=\"_blank\"><img alt=\"Open In Colab\" src=\"https://colab.research.google.com/assets/colab-badge.svg\"/></a>   <a href=\"https://kaggle.com/kernels/welcome?src=https://raw.githubusercontent.com/neuromatch/course-content-template/main/tutorials/W1D1_Template/student/W1D1_Tutorial6.ipynb\" target=\"_blank\"><img alt=\"Open in Kaggle\" src=\"https://kaggle.com/static/images/open-in-kaggle.svg\"/></a>"
   ]
  },
  {
   "cell_type": "markdown",
   "id": "7b2d8f4e",
   "metadata": {
    "execution": {}
   },
   "source": [
    "# Tutorial 6: Professional Developments\n",
    "\n",
    "**Week 1, Day 1: Instructions**\n",
    "\n",
    "**By Neuromatch**\n",
    "\n",
    "__Content creators:__ Viviana Greco & Konstantine Tsafatinos\n",
    "\n",
    "__Content reviewers:__ Konstantine Tsafatinos\n",
    "\n",
    "__Production editors:__ Konstantine Tsafatinos\n",
    "\n",
    "<br>\n",
    "\n",
    "Acknowledgments: [Climatematch]"
   ]
  },
  {
   "cell_type": "markdown",
   "id": "59bcefaf",
   "metadata": {
    "execution": {}
   },
   "source": [
    "___\n",
    "\n",
    "## Tutorial Objectives\n",
    "\n",
    "*Estimated timing of tutorial: [15 mins]*\n",
    "\n",
    "In this tutorial, you will learn how to build the professional development section and updating the repository with your new content.\n",
    "\n",
    "\n",
    "You will: \n",
    "\n",
    "- learn where the professional development folder lives\n",
    "- what each file contains\n",
    "- learn how to update the **prof_dev_materials.yml** to reflect the newly created notebook.\n",
    "\n",
    "It is recommended that you read through all of tutorials 1 through 4 as this tutorial builds upon that knowledge."
   ]
  },
  {
   "cell_type": "markdown",
   "id": "160dd339",
   "metadata": {
    "execution": {}
   },
   "source": [
    "---\n",
    "\n",
    "## Section 1: Folder Structure\n",
    "\n",
    "In the projects directory, you will find a subdirectory named professional_development (located at projects/professional_development). This subdirectory contains the following six files:\n",
    "\n",
    "- README.md\n",
    "- career_features.md\n",
    "- career_panels.md\n",
    "- prof_dev_material.yml\n",
    "- impact_talks.ipynb\n",
    "\n",
    "We have included examples from our Computational Tools for Climate Science course. Please feel free to use them as a template and edit them to your needs."
   ]
  },
  {
   "cell_type": "markdown",
   "id": "a8f788a0",
   "metadata": {
    "execution": {}
   },
   "source": [
    "---\n",
    "\n",
    "## Section 2: The career_features.md file\n",
    "\n",
    "In this file, you will describe the *why*, *what* and *how* aspects of entering the field as a professional. Treat this as a short intro into the possible paths one can take, and what to expect. "
   ]
  },
  {
   "cell_type": "markdown",
   "id": "b14b3015",
   "metadata": {
    "execution": {}
   },
   "source": [
    "---\n",
    "\n",
    "## Section 3: The career_panels.md file\n",
    "\n",
    "It is encouraged to organize panels of professionals in the field so that student can partipate, ask questions, and gain an understanding of how a future career might look for them. We believe that these kind of events will help facilitate new scientists and researchers in the field.\n",
    "\n",
    "The career_panels.md file outlines the schedule and organization of these panels. Feel free follow climatematch's example, or to tweak it for your domain."
   ]
  },
  {
   "cell_type": "markdown",
   "id": "5d811d6f",
   "metadata": {
    "execution": {}
   },
   "source": [
    "---\n",
    "\n",
    "## Section 4: The impact_talks.ipynb file\n",
    "\n",
    "The impact_talks.ipynb file contains a description of the relevant and important topics surrounding the questions of \"how\" we do research in your domain. You can decide exactly what is important, and what you would like to highlight. We recommend including talks and organizing interactive sessions with students to help solidify and emphasize this knowledge. See the included example for climate to get an idea of what this could look like for your course."
   ]
  },
  {
   "cell_type": "markdown",
   "id": "eef90582",
   "metadata": {
    "execution": {}
   },
   "source": [
    "---\n",
    "\n",
    "## Section 5: Add Content to the prof_dev_material.yml File\n",
    "\n",
    "The prof_dev_material.yml File is used in our scripts to help populate the book section \"Professional Development\" and create a table of contents. \n",
    "\n",
    "Ensure that the names of the six files listed above exactly match those specified in the prof_dev_material.yml file. This precise naming is necessary for the scripts to correctly identify and incorporate these files into the book.\n",
    "\n",
    "For guidance on the required file structure and naming, refer to the prof_dev_material.yml file within this template notebook. This file demonstrates the necessary layout and order for the content, which is essential for successfully build the \"Professional Development\" section of the book.\n",
    "\n",
    "**NOTE**: If you follow the same structure and kept the same filenames as the included example, you will likely not need to change this file. Otherwise, if you decided to add new content, or change the names/organization of the the content, be sure to reflect that in the **prof_dev_materials.yml** file. You can follow the project instructions from W1D1_Tutorial5 on how to change file names and titles."
   ]
  },
  {
   "cell_type": "markdown",
   "id": "e7ec2499",
   "metadata": {
    "execution": {}
   },
   "source": [
    "---\n",
    "# Summary\n",
    "\n",
    "Congrats! You now know:\n",
    "\n",
    "1. where the professional development folder lives\n",
    "2. what each file contains\n",
    "3. how to update the **prof_dev_materials.yml**\n",
    "\n",
    "Happy content creating!"
   ]
  }
 ],
 "metadata": {
  "colab": {
   "collapsed_sections": [],
   "include_colab_link": true,
   "name": "W1D1_Tutorial6",
   "toc_visible": true
  },
  "kernel": {
   "display_name": "Python 3",
   "language": "python",
   "name": "python3"
  },
  "kernelspec": {
   "display_name": "Python 3 (ipykernel)",
   "language": "python",
   "name": "python3"
  },
  "language_info": {
   "codemirror_mode": {
    "name": "ipython",
    "version": 3
   },
   "file_extension": ".py",
   "mimetype": "text/x-python",
   "name": "python",
   "nbconvert_exporter": "python",
   "pygments_lexer": "ipython3",
   "version": "3.9.18"
  }
 },
 "nbformat": 4,
 "nbformat_minor": 5
}