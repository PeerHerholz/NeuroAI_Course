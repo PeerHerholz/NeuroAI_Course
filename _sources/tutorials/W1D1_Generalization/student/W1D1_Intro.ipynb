{
 "cells": [
  {
   "cell_type": "markdown",
   "id": "1764495c-fa85-46f1-a72b-1ba805d48e8a",
   "metadata": {
    "cellView": "form",
    "execution": {}
   },
   "source": [
    "# W1D1 Intro"
   ]
  }
 ],
 "metadata": {
  "colab": {
   "collapsed_sections": [],
   "include_colab_link": true,
   "name": "W1D1_Intro",
   "toc_visible": true
  },
  "kernel": {
   "display_name": "Python 3",
   "language": "python",
   "name": "python3"
  },
  "kernelspec": {
   "display_name": "Python 3 (ipykernel)",
   "language": "python",
   "name": "python3"
  },
  "language_info": {
   "codemirror_mode": {
    "name": "ipython",
    "version": 3
   },
   "file_extension": ".py",
   "mimetype": "text/x-python",
   "name": "python",
   "nbconvert_exporter": "python",
   "pygments_lexer": "ipython3",
   "version": "3.9.18"
  }
 },
 "nbformat": 4,
 "nbformat_minor": 5
}