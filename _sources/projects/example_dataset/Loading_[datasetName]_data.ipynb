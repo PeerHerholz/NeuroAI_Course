{
 "cells": [
  {
   "cell_type": "markdown",
   "metadata": {
    "colab_type": "text",
    "execution": {},
    "id": "view-in-github"
   },
   "source": [
    "<a href=\"https://colab.research.google.com/github/NeuromatchAcademy/course-content/blob/main/projects/behavior/Loading_CalMS21_data.ipynb\" target=\"_parent\"><img src=\"https://colab.research.google.com/assets/colab-badge.svg\" alt=\"Open In Colab\"/></a> &nbsp; <a href=\"https://kaggle.com/kernels/welcome?src=https://raw.githubusercontent.com/NeuromatchAcademy/course-content/main/projects/behavior/Loading_CalMS21_data.ipynb\" target=\"_parent\"><img src=\"https://kaggle.com/static/images/open-in-kaggle.svg\" alt=\"Open in Kaggle\"/></a>"
   ]
  },
  {
   "cell_type": "markdown",
   "metadata": {
    "execution": {}
   },
   "source": [
    "<h1>\n",
    "Your title\n",
    "</h1>"
   ]
  },
  {
   "cell_type": "markdown",
   "metadata": {
    "execution": {}
   },
   "source": [
    "# Import necessary modules and packages 📚\n"
   ]
  },
  {
   "cell_type": "code",
   "execution_count": null,
   "metadata": {
    "execution": {}
   },
   "outputs": [],
   "source": [
    "# insert packages"
   ]
  },
  {
   "cell_type": "markdown",
   "metadata": {
    "execution": {}
   },
   "source": [
    "# Download the dataset 📲\n",
    "\n",
    "Your dataset description here. For example, provide links and details about the dataset you'd like to use."
   ]
  },
  {
   "cell_type": "code",
   "execution_count": null,
   "metadata": {
    "cellView": "form",
    "execution": {}
   },
   "outputs": [],
   "source": [
    "# @title Download and unzip the data\n",
    "import os, requests, zipfile\n",
    "\n",
    "# Replace with your file name and URL\n",
    "\n",
    "# fname = 'your_file_name.zip'\n",
    "# url = \"your_url_here\"\n",
    "\n",
    "# if not os.path.isfile(fname):\n",
    "#   try:\n",
    "#     r = requests.get(url)\n",
    "#   except requests.ConnectionError:\n",
    "#     print(\"!!! Failed to download data !!!\")\n",
    "#   else:\n",
    "#     if r.status_code != requests.codes.ok:\n",
    "#       print(\"!!! Failed to download data !!!\")\n",
    "#     else:\n",
    "#       with open(fname, \"wb\") as fid:\n",
    "#         fid.write(r.content)\n",
    "# else:\n",
    "#   print('Data have already been downloaded!!!')\n",
    "\n",
    "\n",
    "\n",
    "# Download the script\n",
    "# Replace with your script name and URL\n",
    "\n",
    "\n",
    "# fname = 'your_script_name.py'\n",
    "# url = \"your_script_url_here\"\n",
    "\n",
    "# if not os.path.isfile(fname):\n",
    "#   try:\n",
    "#     r = requests.get(url)\n",
    "#   except requests.ConnectionError:\n",
    "#     print(\"!!! Failed to download data !!!\")\n",
    "#   else:\n",
    "#     if r.status_code != requests.codes.ok:\n",
    "#       print(\"!!! Failed to download data !!!\")\n",
    "#     else:\n",
    "#       with open(fname, \"wb\") as fid:\n",
    "#         fid.write(r.content)"
   ]
  },
  {
   "cell_type": "markdown",
   "metadata": {
    "execution": {}
   },
   "source": [
    "Provide details about the dataset files, their format, and any additional scripts or tools to be used. Include any relevant links or references.\n"
   ]
  },
  {
   "cell_type": "markdown",
   "metadata": {
    "execution": {}
   },
   "source": [
    "#Your script execution or transformation command. For example, converting data from one format to another:\n",
    "#!python your_script_name_here.py --input_arguments"
   ]
  },
  {
   "cell_type": "markdown",
   "metadata": {
    "execution": {}
   },
   "source": [
    "### Please modify the following headings based on your project's specifications:\n"
   ]
  },
  {
   "cell_type": "markdown",
   "metadata": {
    "execution": {}
   },
   "source": [
    "## Load the data 💾\n"
   ]
  },
  {
   "cell_type": "markdown",
   "metadata": {
    "execution": {}
   },
   "source": [
    "## Dataset Specifications\n",
    "\n",
    "Provide a brief description of what the dataset is about, its source, and its significance."
   ]
  },
  {
   "cell_type": "markdown",
   "metadata": {
    "execution": {}
   },
   "source": [
    "## What does the data look like? 🔍\n",
    "\n",
    "### Data overview\n"
   ]
  },
  {
   "cell_type": "markdown",
   "metadata": {
    "execution": {}
   },
   "source": [
    "# Helper functions for visualization 💁\n"
   ]
  },
  {
   "cell_type": "markdown",
   "metadata": {
    "execution": {}
   },
   "source": [
    "# Visualize the animals' movements 🎥\n",
    "\n"
   ]
  },
  {
   "cell_type": "markdown",
   "metadata": {
    "execution": {}
   },
   "source": [
    "# Basic exploratory data analysis 🤓\n"
   ]
  },
  {
   "cell_type": "markdown",
   "metadata": {
    "execution": {}
   },
   "source": [
    "# Preprocessing script\n",
    "\n"
   ]
  }
 ],
 "metadata": {
  "colab": {
   "collapsed_sections": [],
   "include_colab_link": true,
   "name": "Loading_[datasetName]_data",
   "provenance": [],
   "toc_visible": true
  },
  "kernel": {
   "display_name": "Python 3",
   "language": "python",
   "name": "python3"
  },
  "kernelspec": {
   "display_name": "Python 3 (ipykernel)",
   "language": "python",
   "name": "python3"
  },
  "language_info": {
   "codemirror_mode": {
    "name": "ipython",
    "version": 3
   },
   "file_extension": ".py",
   "mimetype": "text/x-python",
   "name": "python",
   "nbconvert_exporter": "python",
   "pygments_lexer": "ipython3",
   "version": "3.9.18"
  }
 },
 "nbformat": 4,
 "nbformat_minor": 1
}
